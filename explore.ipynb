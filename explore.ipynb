{
 "cells": [
  {
   "cell_type": "code",
   "execution_count": 12,
   "metadata": {
    "collapsed": true
   },
   "outputs": [],
   "source": [
    "import pandas as pd\n",
    "import matplotlib.pyplot as plt\n",
    "import numpy as np\n",
    "import sys\n",
    "\n",
    "%matplotlib inline\n",
    "plt.style.use('ggplot')"
   ]
  },
  {
   "cell_type": "code",
   "execution_count": 13,
   "metadata": {
    "collapsed": false
   },
   "outputs": [],
   "source": [
    "df = pd.read_csv(\"/Users/ytsegay/git/kaggle_rossman/c2.csv\")"
   ]
  },
  {
   "cell_type": "code",
   "execution_count": 85,
   "metadata": {
    "collapsed": false
   },
   "outputs": [],
   "source": [
    "dfZeroSales = df[df.Sales == 0]\n",
    "\n",
    "# remove zero sales\n",
    "dfNoZeroSales = df.drop(df[df.Sales <= 0].index)\n",
    "dfNoZeroSales = dfNoZeroSales.drop(['Customers'], axis=1)\n",
    "\n",
    "# all data after may 2015 (including may) is considered for testing\n",
    "dfTrain = dfNoZeroSales[((dfNoZeroSales.trainYear < 2014) | ((dfNoZeroSales.trainYear <= 2014) & (dfNoZeroSales.trainMonth < 7)))]\n",
    "dfTest = dfNoZeroSales[((dfNoZeroSales.trainYear >= 2014) & (dfNoZeroSales.trainMonth >= 7))]\n",
    "\n",
    "# shuffle rows around\n",
    "dfTrain = dfTrain.reindex(np.random.permutation(dfTrain.index))\n",
    "#dfTest = dfTest.reindex(np.random.permutation(dfTest.index))\n",
    "\n",
    "yTrain = dfTrain.Sales\n",
    "yTest = dfTest.Sales\n",
    "\n",
    "xTrain = dfTrain.drop('Sales', axis=1)\n",
    "xTest = dfTest.drop('Sales', axis=1)"
   ]
  },
  {
   "cell_type": "code",
   "execution_count": 134,
   "metadata": {
    "collapsed": false
   },
   "outputs": [
    {
     "data": {
      "text/plain": [
       "5     93\n",
       "3     93\n",
       "1     93\n",
       "6     90\n",
       "4     90\n",
       "2     84\n",
       "7     62\n",
       "12    31\n",
       "10    31\n",
       "8     31\n",
       "11    30\n",
       "9     30\n",
       "Name: trainMonth, dtype: int64"
      ]
     },
     "execution_count": 134,
     "metadata": {},
     "output_type": "execute_result"
    }
   ],
   "source": [
    "## distribution of sales by day.\n",
    "## whatever is left of dfTrain+dfTest are the rows where no sales have been made\n",
    "#df.DayOfWeek.hist(bins=7, figsize=(15,5))\n",
    "#dfTrain.DayOfWeek.hist(bins=7, figsize=(15,5))\n",
    "#dfTest.DayOfWeek.hist(bins=7, figsize=(15,5))\n",
    "\n",
    "df[df.Store == 539].trainMonth.value_counts()#.plot(kind=\"bar\", figsize=(15,10))"
   ]
  },
  {
   "cell_type": "code",
   "execution_count": 16,
   "metadata": {
    "collapsed": false
   },
   "outputs": [],
   "source": [
    "# for most days the number of stores \n",
    "# which made sales are about the same, except for dat 7\n",
    "#dfTrain.DayOfWeek.value_counts()"
   ]
  },
  {
   "cell_type": "code",
   "execution_count": 42,
   "metadata": {
    "collapsed": false
   },
   "outputs": [
    {
     "name": "stderr",
     "output_type": "stream",
     "text": [
      "/Library/Python/2.7/site-packages/ipykernel/__main__.py:6: FutureWarning: \n",
      "The default value for 'return_type' will change to 'axes' in a future release.\n",
      " To use the future behavior now, set return_type='axes'.\n",
      " To keep the previous behavior and silence this warning, set return_type='dict'.\n"
     ]
    },
    {
     "data": {
      "text/plain": [
       "485781"
      ]
     },
     "execution_count": 42,
     "metadata": {},
     "output_type": "execute_result"
    },
    {
     "data": {
      "image/png": "[encoded data removed]",
      "text/plain": [
       "<matplotlib.figure.Figure at 0x10935c790>"
      ]
     },
     "metadata": {},
     "output_type": "display_data"
    }
   ],
   "source": [
    "# zero sales means they are closed except for 54 stores\n",
    "#dfZeroSales.Open.value_counts()\n",
    "#xTrain.columns\n",
    "xTrain.columns\n",
    "xTrain[\"CompNorm\"] = (xTrain.CompetitionDistance - xTrain.CompetitionDistance.mean())/xTrain.CompetitionDistance.std()\n",
    "xTrain.boxplot(column='CompNorm')\n",
    "xTrain.CompetitionDistance.describe()\n",
    "\n",
    "len(xTrain[xTrain.CompetitionDistance < 6880])"
   ]
  },
  {
   "cell_type": "markdown",
   "metadata": {},
   "source": []
  }
 ],
 "metadata": {
  "kernelspec": {
   "display_name": "Python 2",
   "language": "python",
   "name": "python2"
  },
  "language_info": {
   "codemirror_mode": {
    "name": "ipython",
    "version": 2
   },
   "file_extension": ".py",
   "mimetype": "text/x-python",
   "name": "python",
   "nbconvert_exporter": "python",
   "pygments_lexer": "ipython2",
   "version": "2.7.10"
  }
 },
 "nbformat": 4,
 "nbformat_minor": 0
}
